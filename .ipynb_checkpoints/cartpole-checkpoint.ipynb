{
 "cells": [
  {
   "cell_type": "code",
   "execution_count": 36,
   "metadata": {},
   "outputs": [],
   "source": [
    "import gym\n",
    "import torch.nn as nn\n",
    "import torch.optim as optim\n",
    "import numpy as np"
   ]
  },
  {
   "cell_type": "code",
   "execution_count": 37,
   "metadata": {},
   "outputs": [],
   "source": [
    "def generate_action(state):\n",
    "    # random choice from LEFT/RIGHT for now\n",
    "    # TODO: 1) reduce dimensionality of state\n",
    "    # 2) encode state into spatial and frequency info\n",
    "    # 3) use MCS library to send corresponding signal\n",
    "    # 4) after some DELAY, read motor region electrodes signal\n",
    "    # 5) use spike counting/other preprocessing to obtain most active action region, return this action\n",
    "    # 6) some TIMEOUT for sensory + motor neurons' refractory period\n",
    "    return np.random.choice([0, 1])\n",
    "def send_reward(reward):\n",
    "    return\n",
    "    # TODO: 1) if reward < THRESHOLD, use MCS library to send random signals as punish\n",
    "    # 2) else reward\n",
    "    # 3) have a TIMEOUT for neurons' refractory period\n",
    "    # print(\"raw reward sent is: \" + str(reward))"
   ]
  },
  {
   "cell_type": "code",
   "execution_count": 38,
   "metadata": {},
   "outputs": [
    {
     "name": "stdout",
     "output_type": "stream",
     "text": [
      "episode: 0/100, score: 14.0\n",
      "episode: 10/100, score: 18.0\n",
      "episode: 20/100, score: 22.0\n",
      "episode: 30/100, score: 23.0\n",
      "episode: 40/100, score: 29.0\n",
      "episode: 50/100, score: 15.0\n",
      "episode: 60/100, score: 25.0\n",
      "episode: 70/100, score: 14.0\n",
      "episode: 80/100, score: 15.0\n",
      "episode: 90/100, score: 25.0\n"
     ]
    }
   ],
   "source": [
    "def main():\n",
    "    env = gym.make('CartPole-v1')\n",
    "    action_size = 2\n",
    "    episodes = 100\n",
    "    scores = []\n",
    "    for e in range(episodes):\n",
    "        state, _ = env.reset()\n",
    "        # state = np.reshape(state, [1, *state_size])\n",
    "        done, score = False, 0\n",
    "        while not done:\n",
    "            action = generate_action(state)\n",
    "            state, reward, done, _, __ = env.step(action)\n",
    "            send_reward(reward)\n",
    "            score += reward\n",
    "            if done:\n",
    "                scores.append(score)\n",
    "                if not e % 10: \n",
    "                    print(f\"episode: {e}/{episodes}, score: {score}\")\n",
    "if __name__ == \"__main__\":\n",
    "    main()"
   ]
  },
  {
   "cell_type": "code",
   "execution_count": 26,
   "metadata": {},
   "outputs": [],
   "source": [
    "# import torch\n",
    "# import numpy as np\n",
    "\n",
    "# def preprocess(state):\n",
    "#     if type(state) == np.ndarray:\n",
    "#         state = torch.from_numpy(state).float()\n",
    "#     elif type(state) == torch.Tensor:\n",
    "#         state = state.float()\n",
    "#     return state"
   ]
  },
  {
   "cell_type": "code",
   "execution_count": 23,
   "metadata": {},
   "outputs": [],
   "source": [
    "# import torch.nn as nn\n",
    "\n",
    "# class Q_Net_linear(nn.Module):\n",
    "\n",
    "#     def __init__(self, num_actions):\n",
    "#         super(Q_Net_linear, self).__init__()\n",
    "#         self.relu = nn.ReLU()\n",
    "#         self.input_layer = nn.Linear(210*160, 2048*8)\n",
    "#         self.hidden1 = nn.Linear(2048*8, 2048)\n",
    "#         self.hidden2 = nn.Linear(2048, 512)\n",
    "#         self.hidden3 = nn.Linear(512, 128)\n",
    "#         self.output_layer = nn.Linear(128, num_actions)\n",
    "\n",
    "#     def forward(self, x):\n",
    "#         x = x.flatten(start_dim=1)\n",
    "#         x = self.relu(self.input_layer(x))\n",
    "#         x = self.relu(self.hidden1(x))\n",
    "#         x = self.relu(self.hidden2(x))\n",
    "#         x = self.relu(self.hidden3(x))\n",
    "#         x = self.output_layer(x)\n",
    "#         return x"
   ]
  },
  {
   "cell_type": "code",
   "execution_count": 24,
   "metadata": {},
   "outputs": [
    {
     "data": {
      "text/plain": [
       "<All keys matched successfully>"
      ]
     },
     "execution_count": 24,
     "metadata": {},
     "output_type": "execute_result"
    }
   ],
   "source": [
    "# num_actions = 2\n",
    "# model = Q_Net_linear(num_actions)\n",
    "# target_model = Q_Net_linear(num_actions)\n",
    "# target_model.load_state_dict(model.state_dict())"
   ]
  },
  {
   "cell_type": "code",
   "execution_count": 29,
   "metadata": {},
   "outputs": [],
   "source": [
    "# #initialize the memory buffer\n",
    "# batch_size = 32\n",
    "# buffer = Buffer(batch_size)\n",
    "\n",
    "# num_episodes = 100\n",
    "# #hyperparams, optimizer and loss function\n",
    "# optimizer = optim.Adam(model.parameters(), lr=.001) #hyperparam could do with tuning\n",
    "# loss_fn = nn.MSELoss()\n",
    "# epsilon = 0.6 #another hyperparam that could be tuned\n",
    "# gamma = 0.95 #another hyperparam that could be tuned\n",
    "# target_update = 50\n",
    "\n",
    "# #initialize the agent(who selects our actions for us)\n",
    "# agent = Agent(model, num_actions, epsilon)"
   ]
  },
  {
   "cell_type": "code",
   "execution_count": 22,
   "metadata": {},
   "outputs": [],
   "source": [
    "# import random\n",
    "\n",
    "# class Buffer():\n",
    "\n",
    "#     def __init__(self, batch_size,max_size=10000):\n",
    "#         self.mem = []\n",
    "#         self.added = 0\n",
    "#         self.max_size = max_size\n",
    "#         self.batch_size = batch_size\n",
    "\n",
    "#     def add_item(self, state, action, new_state, reward):\n",
    "#         item = (state.unsqueeze(0), action, new_state.unsqueeze(0), reward)\n",
    "#         if self.added < self.max_size:\n",
    "#             self.mem.append(item)\n",
    "#         else:\n",
    "#             self.mem[self.added % self.max_size] = item\n",
    "#         self.added += 1\n",
    "\n",
    "#     def sample_from_memory(self):\n",
    "#         return random.sample(self.mem, self.batch_size)\n",
    "\n",
    "# import numpy as np\n",
    "# import torch\n",
    "\n",
    "# class Agent():\n",
    "\n",
    "#     def __init__(self, model, num_actions, epsilon):\n",
    "#         self.model = model\n",
    "#         self.num_actions = num_actions\n",
    "#         self.epsilon = epsilon\n",
    "#         self.choices_made = 0\n",
    "\n",
    "\n",
    "#     def choose_action(self, state):\n",
    "#         self.choices_made += 1\n",
    "#         if self.choices_made % 100 == 0:  # cut down the exploration rate as the model is trained more\n",
    "#             self.epsilon /= 1.05\n",
    "#         if np.random.random() < self.epsilon:\n",
    "#             action = np.random.randint(self.num_actions)\n",
    "#             return torch.tensor([action])\n",
    "#         else:\n",
    "#             action = torch.argmax(self.model(state.unsqueeze(0)))\n",
    "#             return action.unsqueeze(0)"
   ]
  },
  {
   "cell_type": "code",
   "execution_count": 31,
   "metadata": {},
   "outputs": [
    {
     "name": "stdout",
     "output_type": "stream",
     "text": [
      "Starting training for 100 episodes\n"
     ]
    },
    {
     "ename": "RuntimeError",
     "evalue": "mat1 and mat2 shapes cannot be multiplied (1x4 and 33600x16384)",
     "output_type": "error",
     "traceback": [
      "\u001b[0;31m---------------------------------------------------------------------------\u001b[0m",
      "\u001b[0;31mRuntimeError\u001b[0m                              Traceback (most recent call last)",
      "Cell \u001b[0;32mIn[31], line 11\u001b[0m\n\u001b[1;32m      9\u001b[0m steps \u001b[38;5;241m+\u001b[39m\u001b[38;5;241m=\u001b[39m \u001b[38;5;241m1\u001b[39m\n\u001b[1;32m     10\u001b[0m state \u001b[38;5;241m=\u001b[39m preprocess(state)\n\u001b[0;32m---> 11\u001b[0m action \u001b[38;5;241m=\u001b[39m \u001b[43magent\u001b[49m\u001b[38;5;241;43m.\u001b[39;49m\u001b[43mchoose_action\u001b[49m\u001b[43m(\u001b[49m\u001b[43mstate\u001b[49m\u001b[43m)\u001b[49m\n\u001b[1;32m     12\u001b[0m observation, reward, done, truncated, info \u001b[38;5;241m=\u001b[39m env\u001b[38;5;241m.\u001b[39mstep(action\u001b[38;5;241m.\u001b[39mitem())\n\u001b[1;32m     13\u001b[0m total_reward \u001b[38;5;241m+\u001b[39m\u001b[38;5;241m=\u001b[39m reward\n",
      "Cell \u001b[0;32mIn[22], line 42\u001b[0m, in \u001b[0;36mAgent.choose_action\u001b[0;34m(self, state)\u001b[0m\n\u001b[1;32m     40\u001b[0m     \u001b[38;5;28;01mreturn\u001b[39;00m torch\u001b[38;5;241m.\u001b[39mtensor([action])\n\u001b[1;32m     41\u001b[0m \u001b[38;5;28;01melse\u001b[39;00m:\n\u001b[0;32m---> 42\u001b[0m     action \u001b[38;5;241m=\u001b[39m torch\u001b[38;5;241m.\u001b[39margmax(\u001b[38;5;28;43mself\u001b[39;49m\u001b[38;5;241;43m.\u001b[39;49m\u001b[43mmodel\u001b[49m\u001b[43m(\u001b[49m\u001b[43mstate\u001b[49m\u001b[38;5;241;43m.\u001b[39;49m\u001b[43munsqueeze\u001b[49m\u001b[43m(\u001b[49m\u001b[38;5;241;43m0\u001b[39;49m\u001b[43m)\u001b[49m\u001b[43m)\u001b[49m)\n\u001b[1;32m     43\u001b[0m     \u001b[38;5;28;01mreturn\u001b[39;00m action\u001b[38;5;241m.\u001b[39munsqueeze(\u001b[38;5;241m0\u001b[39m)\n",
      "File \u001b[0;32m/Library/Frameworks/Python.framework/Versions/3.9/lib/python3.9/site-packages/torch/nn/modules/module.py:1511\u001b[0m, in \u001b[0;36mModule._wrapped_call_impl\u001b[0;34m(self, *args, **kwargs)\u001b[0m\n\u001b[1;32m   1509\u001b[0m     \u001b[38;5;28;01mreturn\u001b[39;00m \u001b[38;5;28mself\u001b[39m\u001b[38;5;241m.\u001b[39m_compiled_call_impl(\u001b[38;5;241m*\u001b[39margs, \u001b[38;5;241m*\u001b[39m\u001b[38;5;241m*\u001b[39mkwargs)  \u001b[38;5;66;03m# type: ignore[misc]\u001b[39;00m\n\u001b[1;32m   1510\u001b[0m \u001b[38;5;28;01melse\u001b[39;00m:\n\u001b[0;32m-> 1511\u001b[0m     \u001b[38;5;28;01mreturn\u001b[39;00m \u001b[38;5;28;43mself\u001b[39;49m\u001b[38;5;241;43m.\u001b[39;49m\u001b[43m_call_impl\u001b[49m\u001b[43m(\u001b[49m\u001b[38;5;241;43m*\u001b[39;49m\u001b[43margs\u001b[49m\u001b[43m,\u001b[49m\u001b[43m \u001b[49m\u001b[38;5;241;43m*\u001b[39;49m\u001b[38;5;241;43m*\u001b[39;49m\u001b[43mkwargs\u001b[49m\u001b[43m)\u001b[49m\n",
      "File \u001b[0;32m/Library/Frameworks/Python.framework/Versions/3.9/lib/python3.9/site-packages/torch/nn/modules/module.py:1520\u001b[0m, in \u001b[0;36mModule._call_impl\u001b[0;34m(self, *args, **kwargs)\u001b[0m\n\u001b[1;32m   1515\u001b[0m \u001b[38;5;66;03m# If we don't have any hooks, we want to skip the rest of the logic in\u001b[39;00m\n\u001b[1;32m   1516\u001b[0m \u001b[38;5;66;03m# this function, and just call forward.\u001b[39;00m\n\u001b[1;32m   1517\u001b[0m \u001b[38;5;28;01mif\u001b[39;00m \u001b[38;5;129;01mnot\u001b[39;00m (\u001b[38;5;28mself\u001b[39m\u001b[38;5;241m.\u001b[39m_backward_hooks \u001b[38;5;129;01mor\u001b[39;00m \u001b[38;5;28mself\u001b[39m\u001b[38;5;241m.\u001b[39m_backward_pre_hooks \u001b[38;5;129;01mor\u001b[39;00m \u001b[38;5;28mself\u001b[39m\u001b[38;5;241m.\u001b[39m_forward_hooks \u001b[38;5;129;01mor\u001b[39;00m \u001b[38;5;28mself\u001b[39m\u001b[38;5;241m.\u001b[39m_forward_pre_hooks\n\u001b[1;32m   1518\u001b[0m         \u001b[38;5;129;01mor\u001b[39;00m _global_backward_pre_hooks \u001b[38;5;129;01mor\u001b[39;00m _global_backward_hooks\n\u001b[1;32m   1519\u001b[0m         \u001b[38;5;129;01mor\u001b[39;00m _global_forward_hooks \u001b[38;5;129;01mor\u001b[39;00m _global_forward_pre_hooks):\n\u001b[0;32m-> 1520\u001b[0m     \u001b[38;5;28;01mreturn\u001b[39;00m \u001b[43mforward_call\u001b[49m\u001b[43m(\u001b[49m\u001b[38;5;241;43m*\u001b[39;49m\u001b[43margs\u001b[49m\u001b[43m,\u001b[49m\u001b[43m \u001b[49m\u001b[38;5;241;43m*\u001b[39;49m\u001b[38;5;241;43m*\u001b[39;49m\u001b[43mkwargs\u001b[49m\u001b[43m)\u001b[49m\n\u001b[1;32m   1522\u001b[0m \u001b[38;5;28;01mtry\u001b[39;00m:\n\u001b[1;32m   1523\u001b[0m     result \u001b[38;5;241m=\u001b[39m \u001b[38;5;28;01mNone\u001b[39;00m\n",
      "Cell \u001b[0;32mIn[23], line 16\u001b[0m, in \u001b[0;36mQ_Net_linear.forward\u001b[0;34m(self, x)\u001b[0m\n\u001b[1;32m     14\u001b[0m \u001b[38;5;28;01mdef\u001b[39;00m \u001b[38;5;21mforward\u001b[39m(\u001b[38;5;28mself\u001b[39m, x):\n\u001b[1;32m     15\u001b[0m     x \u001b[38;5;241m=\u001b[39m x\u001b[38;5;241m.\u001b[39mflatten(start_dim\u001b[38;5;241m=\u001b[39m\u001b[38;5;241m1\u001b[39m)\n\u001b[0;32m---> 16\u001b[0m     x \u001b[38;5;241m=\u001b[39m \u001b[38;5;28mself\u001b[39m\u001b[38;5;241m.\u001b[39mrelu(\u001b[38;5;28;43mself\u001b[39;49m\u001b[38;5;241;43m.\u001b[39;49m\u001b[43minput_layer\u001b[49m\u001b[43m(\u001b[49m\u001b[43mx\u001b[49m\u001b[43m)\u001b[49m)\n\u001b[1;32m     17\u001b[0m     x \u001b[38;5;241m=\u001b[39m \u001b[38;5;28mself\u001b[39m\u001b[38;5;241m.\u001b[39mrelu(\u001b[38;5;28mself\u001b[39m\u001b[38;5;241m.\u001b[39mhidden1(x))\n\u001b[1;32m     18\u001b[0m     x \u001b[38;5;241m=\u001b[39m \u001b[38;5;28mself\u001b[39m\u001b[38;5;241m.\u001b[39mrelu(\u001b[38;5;28mself\u001b[39m\u001b[38;5;241m.\u001b[39mhidden2(x))\n",
      "File \u001b[0;32m/Library/Frameworks/Python.framework/Versions/3.9/lib/python3.9/site-packages/torch/nn/modules/module.py:1511\u001b[0m, in \u001b[0;36mModule._wrapped_call_impl\u001b[0;34m(self, *args, **kwargs)\u001b[0m\n\u001b[1;32m   1509\u001b[0m     \u001b[38;5;28;01mreturn\u001b[39;00m \u001b[38;5;28mself\u001b[39m\u001b[38;5;241m.\u001b[39m_compiled_call_impl(\u001b[38;5;241m*\u001b[39margs, \u001b[38;5;241m*\u001b[39m\u001b[38;5;241m*\u001b[39mkwargs)  \u001b[38;5;66;03m# type: ignore[misc]\u001b[39;00m\n\u001b[1;32m   1510\u001b[0m \u001b[38;5;28;01melse\u001b[39;00m:\n\u001b[0;32m-> 1511\u001b[0m     \u001b[38;5;28;01mreturn\u001b[39;00m \u001b[38;5;28;43mself\u001b[39;49m\u001b[38;5;241;43m.\u001b[39;49m\u001b[43m_call_impl\u001b[49m\u001b[43m(\u001b[49m\u001b[38;5;241;43m*\u001b[39;49m\u001b[43margs\u001b[49m\u001b[43m,\u001b[49m\u001b[43m \u001b[49m\u001b[38;5;241;43m*\u001b[39;49m\u001b[38;5;241;43m*\u001b[39;49m\u001b[43mkwargs\u001b[49m\u001b[43m)\u001b[49m\n",
      "File \u001b[0;32m/Library/Frameworks/Python.framework/Versions/3.9/lib/python3.9/site-packages/torch/nn/modules/module.py:1520\u001b[0m, in \u001b[0;36mModule._call_impl\u001b[0;34m(self, *args, **kwargs)\u001b[0m\n\u001b[1;32m   1515\u001b[0m \u001b[38;5;66;03m# If we don't have any hooks, we want to skip the rest of the logic in\u001b[39;00m\n\u001b[1;32m   1516\u001b[0m \u001b[38;5;66;03m# this function, and just call forward.\u001b[39;00m\n\u001b[1;32m   1517\u001b[0m \u001b[38;5;28;01mif\u001b[39;00m \u001b[38;5;129;01mnot\u001b[39;00m (\u001b[38;5;28mself\u001b[39m\u001b[38;5;241m.\u001b[39m_backward_hooks \u001b[38;5;129;01mor\u001b[39;00m \u001b[38;5;28mself\u001b[39m\u001b[38;5;241m.\u001b[39m_backward_pre_hooks \u001b[38;5;129;01mor\u001b[39;00m \u001b[38;5;28mself\u001b[39m\u001b[38;5;241m.\u001b[39m_forward_hooks \u001b[38;5;129;01mor\u001b[39;00m \u001b[38;5;28mself\u001b[39m\u001b[38;5;241m.\u001b[39m_forward_pre_hooks\n\u001b[1;32m   1518\u001b[0m         \u001b[38;5;129;01mor\u001b[39;00m _global_backward_pre_hooks \u001b[38;5;129;01mor\u001b[39;00m _global_backward_hooks\n\u001b[1;32m   1519\u001b[0m         \u001b[38;5;129;01mor\u001b[39;00m _global_forward_hooks \u001b[38;5;129;01mor\u001b[39;00m _global_forward_pre_hooks):\n\u001b[0;32m-> 1520\u001b[0m     \u001b[38;5;28;01mreturn\u001b[39;00m \u001b[43mforward_call\u001b[49m\u001b[43m(\u001b[49m\u001b[38;5;241;43m*\u001b[39;49m\u001b[43margs\u001b[49m\u001b[43m,\u001b[49m\u001b[43m \u001b[49m\u001b[38;5;241;43m*\u001b[39;49m\u001b[38;5;241;43m*\u001b[39;49m\u001b[43mkwargs\u001b[49m\u001b[43m)\u001b[49m\n\u001b[1;32m   1522\u001b[0m \u001b[38;5;28;01mtry\u001b[39;00m:\n\u001b[1;32m   1523\u001b[0m     result \u001b[38;5;241m=\u001b[39m \u001b[38;5;28;01mNone\u001b[39;00m\n",
      "File \u001b[0;32m/Library/Frameworks/Python.framework/Versions/3.9/lib/python3.9/site-packages/torch/nn/modules/linear.py:116\u001b[0m, in \u001b[0;36mLinear.forward\u001b[0;34m(self, input)\u001b[0m\n\u001b[1;32m    115\u001b[0m \u001b[38;5;28;01mdef\u001b[39;00m \u001b[38;5;21mforward\u001b[39m(\u001b[38;5;28mself\u001b[39m, \u001b[38;5;28minput\u001b[39m: Tensor) \u001b[38;5;241m-\u001b[39m\u001b[38;5;241m>\u001b[39m Tensor:\n\u001b[0;32m--> 116\u001b[0m     \u001b[38;5;28;01mreturn\u001b[39;00m \u001b[43mF\u001b[49m\u001b[38;5;241;43m.\u001b[39;49m\u001b[43mlinear\u001b[49m\u001b[43m(\u001b[49m\u001b[38;5;28;43minput\u001b[39;49m\u001b[43m,\u001b[49m\u001b[43m \u001b[49m\u001b[38;5;28;43mself\u001b[39;49m\u001b[38;5;241;43m.\u001b[39;49m\u001b[43mweight\u001b[49m\u001b[43m,\u001b[49m\u001b[43m \u001b[49m\u001b[38;5;28;43mself\u001b[39;49m\u001b[38;5;241;43m.\u001b[39;49m\u001b[43mbias\u001b[49m\u001b[43m)\u001b[49m\n",
      "\u001b[0;31mRuntimeError\u001b[0m: mat1 and mat2 shapes cannot be multiplied (1x4 and 33600x16384)"
     ]
    }
   ],
   "source": [
    "# print(f\"Starting training for {num_episodes} episodes\")\n",
    "# env = gym.make('CartPole-v1')\n",
    "# env.reset(seed=42) #need to set with a seed once for deterministic behaviour ig?\n",
    "# for episode in range(num_episodes): #train for 1000 episodes??\n",
    "#     state, _ = env.reset()\n",
    "#     steps = 0\n",
    "#     total_reward = 0\n",
    "#     while True:\n",
    "#         steps += 1\n",
    "#         state = preprocess(state)\n",
    "#         action = agent.choose_action(state)\n",
    "#         observation, reward, done, truncated, info = env.step(action.item())\n",
    "#         total_reward += reward\n",
    "#         new_state = preprocess(observation)\n",
    "#         reward = torch.tensor([reward])\n",
    "#         buffer.add_item(state, action, new_state, reward)\n",
    "#         if buffer.added >= batch_size: #this is where we do the network updating\n",
    "#             batch = buffer.sample_from_memory() #the next few lines are just for making batches\n",
    "#             batch = list(zip(*batch))\n",
    "#             states = torch.cat(batch[0], 0)\n",
    "#             actions = torch.cat(batch[1], 0).unsqueeze(0).transpose(0, 1)\n",
    "#             new_states = torch.cat(batch[2], 0)\n",
    "#             rewards = torch.cat(batch[3], 0).unsqueeze(0).transpose(0, 1)\n",
    "#             curr_q = model(states).gather(1, actions) #model updating is happening\n",
    "#             target_output = target_model(new_states)\n",
    "#             expected_q = rewards + (gamma * target_output)\n",
    "#             expected_q = expected_q.unsqueeze(1)\n",
    "#             loss = loss_fn(curr_q, expected_q)\n",
    "#             optimizer.zero_grad()\n",
    "#             loss.backward()\n",
    "#             for param in model.parameters(): #whatever tf clamp does\n",
    "#                 if param.grad is not None:\n",
    "#                     param.grad.data.clamp_(-1, 1)\n",
    "#             optimizer.step()\n",
    "#         if done: #if the episode is complete\n",
    "#             break\n",
    "#     if (num_episodes <= 10) or (episode % (num_episodes // 50)  == 0):\n",
    "#         print(f\"\\tEpisode {episode} completed in {steps} steps with total reward: {total_reward}\\n\")\n",
    "#     if episode % target_update == 0:\n",
    "#         target_model.load_state_dict(model.state_dict())\n",
    "\n",
    "# print(\"Training finished\")"
   ]
  },
  {
   "cell_type": "code",
   "execution_count": null,
   "metadata": {},
   "outputs": [],
   "source": []
  }
 ],
 "metadata": {
  "kernelspec": {
   "display_name": "Python 3 (ipykernel)",
   "language": "python",
   "name": "python3"
  },
  "language_info": {
   "codemirror_mode": {
    "name": "ipython",
    "version": 3
   },
   "file_extension": ".py",
   "mimetype": "text/x-python",
   "name": "python",
   "nbconvert_exporter": "python",
   "pygments_lexer": "ipython3",
   "version": "3.9.6"
  }
 },
 "nbformat": 4,
 "nbformat_minor": 4
}
